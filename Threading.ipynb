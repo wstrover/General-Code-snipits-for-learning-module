{
 "cells": [
  {
   "cell_type": "code",
   "execution_count": 1,
   "metadata": {},
   "outputs": [
    {
     "name": "stdout",
     "output_type": "stream",
     "text": [
      "2000000\n"
     ]
    }
   ],
   "source": [
    "import threading \n",
    "\n",
    "class CountClass:\n",
    "    def __init__(self):\n",
    "        self.counter = 0\n",
    "        \n",
    "    def increment(self):\n",
    "        self.counter = self.counter +1\n",
    "        \n",
    "mycounter = CountClass()\n",
    "\n",
    "def foo():\n",
    "    for i in range(1000000):\n",
    "        mycounter.increment()\n",
    "        \n",
    "first = threading.Thread(target=foo, args=())\n",
    "second = threading.Thread(target=foo, args=())\n",
    "\n",
    "first.start()\n",
    "first.join()\n",
    "\n",
    "second.start()\n",
    "\n",
    "\n",
    "second.join ()\n",
    "\n",
    "print(mycounter.counter)\n",
    "\n"
   ]
  },
  {
   "cell_type": "code",
   "execution_count": null,
   "metadata": {},
   "outputs": [],
   "source": []
  }
 ],
 "metadata": {
  "kernelspec": {
   "display_name": "Python 3",
   "language": "python",
   "name": "python3"
  },
  "language_info": {
   "codemirror_mode": {
    "name": "ipython",
    "version": 3
   },
   "file_extension": ".py",
   "mimetype": "text/x-python",
   "name": "python",
   "nbconvert_exporter": "python",
   "pygments_lexer": "ipython3",
   "version": "3.8.5"
  }
 },
 "nbformat": 4,
 "nbformat_minor": 4
}
